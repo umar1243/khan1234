{
 "cells": [
  {
   "cell_type": "code",
   "execution_count": 300,
   "metadata": {},
   "outputs": [],
   "source": [
    "import pandas as pd"
   ]
  },
  {
   "cell_type": "code",
   "execution_count": 301,
   "metadata": {},
   "outputs": [],
   "source": [
    "import numpy as np"
   ]
  },
  {
   "cell_type": "code",
   "execution_count": 302,
   "metadata": {},
   "outputs": [],
   "source": [
    "df= pd.read_csv(\"fashion_products.csv\")"
   ]
  },
  {
   "cell_type": "code",
   "execution_count": 309,
   "metadata": {},
   "outputs": [
    {
     "data": {
      "text/html": [
       "<div>\n",
       "<style scoped>\n",
       "    .dataframe tbody tr th:only-of-type {\n",
       "        vertical-align: middle;\n",
       "    }\n",
       "\n",
       "    .dataframe tbody tr th {\n",
       "        vertical-align: top;\n",
       "    }\n",
       "\n",
       "    .dataframe thead th {\n",
       "        text-align: right;\n",
       "    }\n",
       "</style>\n",
       "<table border=\"1\" class=\"dataframe\">\n",
       "  <thead>\n",
       "    <tr style=\"text-align: right;\">\n",
       "      <th></th>\n",
       "      <th>User ID</th>\n",
       "      <th>Product ID</th>\n",
       "      <th>Product Name</th>\n",
       "      <th>Brand</th>\n",
       "      <th>Category</th>\n",
       "      <th>Price</th>\n",
       "      <th>Rating</th>\n",
       "      <th>Color</th>\n",
       "      <th>Size</th>\n",
       "    </tr>\n",
       "  </thead>\n",
       "  <tbody>\n",
       "    <tr>\n",
       "      <th>51</th>\n",
       "      <td>80</td>\n",
       "      <td>52</td>\n",
       "      <td>Dress</td>\n",
       "      <td>Nike</td>\n",
       "      <td>Kids' Fashion</td>\n",
       "      <td>59</td>\n",
       "      <td>3.964195</td>\n",
       "      <td>Red</td>\n",
       "      <td>S</td>\n",
       "    </tr>\n",
       "    <tr>\n",
       "      <th>154</th>\n",
       "      <td>91</td>\n",
       "      <td>155</td>\n",
       "      <td>T-shirt</td>\n",
       "      <td>Gucci</td>\n",
       "      <td>Women's Fashion</td>\n",
       "      <td>48</td>\n",
       "      <td>2.433795</td>\n",
       "      <td>White</td>\n",
       "      <td>L</td>\n",
       "    </tr>\n",
       "    <tr>\n",
       "      <th>183</th>\n",
       "      <td>67</td>\n",
       "      <td>184</td>\n",
       "      <td>Sweater</td>\n",
       "      <td>Zara</td>\n",
       "      <td>Women's Fashion</td>\n",
       "      <td>67</td>\n",
       "      <td>3.448528</td>\n",
       "      <td>Green</td>\n",
       "      <td>L</td>\n",
       "    </tr>\n",
       "    <tr>\n",
       "      <th>238</th>\n",
       "      <td>33</td>\n",
       "      <td>239</td>\n",
       "      <td>Shoes</td>\n",
       "      <td>Gucci</td>\n",
       "      <td>Kids' Fashion</td>\n",
       "      <td>93</td>\n",
       "      <td>3.956211</td>\n",
       "      <td>White</td>\n",
       "      <td>L</td>\n",
       "    </tr>\n",
       "    <tr>\n",
       "      <th>338</th>\n",
       "      <td>46</td>\n",
       "      <td>339</td>\n",
       "      <td>Dress</td>\n",
       "      <td>Gucci</td>\n",
       "      <td>Women's Fashion</td>\n",
       "      <td>74</td>\n",
       "      <td>1.804017</td>\n",
       "      <td>White</td>\n",
       "      <td>M</td>\n",
       "    </tr>\n",
       "  </tbody>\n",
       "</table>\n",
       "</div>"
      ],
      "text/plain": [
       "     User ID  Product ID Product Name  Brand         Category  Price  \\\n",
       "51        80          52        Dress   Nike    Kids' Fashion     59   \n",
       "154       91         155      T-shirt  Gucci  Women's Fashion     48   \n",
       "183       67         184      Sweater   Zara  Women's Fashion     67   \n",
       "238       33         239        Shoes  Gucci    Kids' Fashion     93   \n",
       "338       46         339        Dress  Gucci  Women's Fashion     74   \n",
       "\n",
       "       Rating  Color Size  \n",
       "51   3.964195    Red    S  \n",
       "154  2.433795  White    L  \n",
       "183  3.448528  Green    L  \n",
       "238  3.956211  White    L  \n",
       "338  1.804017  White    M  "
      ]
     },
     "execution_count": 309,
     "metadata": {},
     "output_type": "execute_result"
    }
   ],
   "source": [
    "df.sample(5)"
   ]
  },
  {
   "cell_type": "code",
   "execution_count": 310,
   "metadata": {},
   "outputs": [
    {
     "data": {
      "text/plain": [
       "(362, 9)"
      ]
     },
     "execution_count": 310,
     "metadata": {},
     "output_type": "execute_result"
    }
   ],
   "source": [
    "df.shape"
   ]
  },
  {
   "cell_type": "code",
   "execution_count": 311,
   "metadata": {},
   "outputs": [
    {
     "data": {
      "text/plain": [
       "<bound method NDFrame.sample of      User ID  Product ID Product Name   Brand         Category  Price  \\\n",
       "0         19           1        Dress  Adidas    Men's Fashion     40   \n",
       "1         97           2        Shoes     H&M  Women's Fashion     82   \n",
       "2         25           3        Dress  Adidas  Women's Fashion     44   \n",
       "3         57           4        Shoes    Zara    Men's Fashion     23   \n",
       "4         79           5      T-shirt  Adidas    Men's Fashion     79   \n",
       "..       ...         ...          ...     ...              ...    ...   \n",
       "357       66         358        Shoes  Adidas    Men's Fashion     55   \n",
       "358       55         359        Dress    Nike    Kids' Fashion     68   \n",
       "359       42         360      Sweater     H&M  Women's Fashion     24   \n",
       "360       78         361      Sweater     H&M    Kids' Fashion     62   \n",
       "361       22         362        Jeans  Adidas    Men's Fashion     15   \n",
       "\n",
       "       Rating   Color Size  \n",
       "0    1.043159   Black   XL  \n",
       "1    4.026416   Black    L  \n",
       "2    3.337938  Yellow   XL  \n",
       "3    1.049523   White    S  \n",
       "4    4.302773   Black    M  \n",
       "..        ...     ...  ...  \n",
       "357  1.174953    Blue   XL  \n",
       "358  4.449500     Red    L  \n",
       "359  2.257292   Black   XL  \n",
       "360  1.760451    Blue   XL  \n",
       "361  1.281293     Red    S  \n",
       "\n",
       "[362 rows x 9 columns]>"
      ]
     },
     "execution_count": 311,
     "metadata": {},
     "output_type": "execute_result"
    }
   ],
   "source": [
    "df.sample"
   ]
  },
  {
   "cell_type": "code",
   "execution_count": 312,
   "metadata": {},
   "outputs": [
    {
     "data": {
      "text/html": [
       "<div>\n",
       "<style scoped>\n",
       "    .dataframe tbody tr th:only-of-type {\n",
       "        vertical-align: middle;\n",
       "    }\n",
       "\n",
       "    .dataframe tbody tr th {\n",
       "        vertical-align: top;\n",
       "    }\n",
       "\n",
       "    .dataframe thead th {\n",
       "        text-align: right;\n",
       "    }\n",
       "</style>\n",
       "<table border=\"1\" class=\"dataframe\">\n",
       "  <thead>\n",
       "    <tr style=\"text-align: right;\">\n",
       "      <th></th>\n",
       "      <th>User ID</th>\n",
       "      <th>Product ID</th>\n",
       "      <th>Price</th>\n",
       "      <th>Rating</th>\n",
       "    </tr>\n",
       "  </thead>\n",
       "  <tbody>\n",
       "    <tr>\n",
       "      <th>count</th>\n",
       "      <td>362.000000</td>\n",
       "      <td>362.000000</td>\n",
       "      <td>362.000000</td>\n",
       "      <td>362.000000</td>\n",
       "    </tr>\n",
       "    <tr>\n",
       "      <th>mean</th>\n",
       "      <td>51.301105</td>\n",
       "      <td>181.500000</td>\n",
       "      <td>54.779006</td>\n",
       "      <td>2.983679</td>\n",
       "    </tr>\n",
       "    <tr>\n",
       "      <th>std</th>\n",
       "      <td>28.124288</td>\n",
       "      <td>104.644637</td>\n",
       "      <td>25.264272</td>\n",
       "      <td>1.156270</td>\n",
       "    </tr>\n",
       "    <tr>\n",
       "      <th>min</th>\n",
       "      <td>1.000000</td>\n",
       "      <td>1.000000</td>\n",
       "      <td>10.000000</td>\n",
       "      <td>1.000967</td>\n",
       "    </tr>\n",
       "    <tr>\n",
       "      <th>25%</th>\n",
       "      <td>30.250000</td>\n",
       "      <td>91.250000</td>\n",
       "      <td>35.000000</td>\n",
       "      <td>2.004272</td>\n",
       "    </tr>\n",
       "    <tr>\n",
       "      <th>50%</th>\n",
       "      <td>51.000000</td>\n",
       "      <td>181.500000</td>\n",
       "      <td>55.000000</td>\n",
       "      <td>2.946329</td>\n",
       "    </tr>\n",
       "    <tr>\n",
       "      <th>75%</th>\n",
       "      <td>75.000000</td>\n",
       "      <td>271.750000</td>\n",
       "      <td>75.000000</td>\n",
       "      <td>3.998996</td>\n",
       "    </tr>\n",
       "    <tr>\n",
       "      <th>max</th>\n",
       "      <td>100.000000</td>\n",
       "      <td>362.000000</td>\n",
       "      <td>100.000000</td>\n",
       "      <td>4.980656</td>\n",
       "    </tr>\n",
       "  </tbody>\n",
       "</table>\n",
       "</div>"
      ],
      "text/plain": [
       "          User ID  Product ID       Price      Rating\n",
       "count  362.000000  362.000000  362.000000  362.000000\n",
       "mean    51.301105  181.500000   54.779006    2.983679\n",
       "std     28.124288  104.644637   25.264272    1.156270\n",
       "min      1.000000    1.000000   10.000000    1.000967\n",
       "25%     30.250000   91.250000   35.000000    2.004272\n",
       "50%     51.000000  181.500000   55.000000    2.946329\n",
       "75%     75.000000  271.750000   75.000000    3.998996\n",
       "max    100.000000  362.000000  100.000000    4.980656"
      ]
     },
     "execution_count": 312,
     "metadata": {},
     "output_type": "execute_result"
    }
   ],
   "source": [
    "df.describe()"
   ]
  },
  {
   "cell_type": "code",
   "execution_count": 298,
   "metadata": {},
   "outputs": [
    {
     "data": {
      "text/plain": [
       "Index(['User ID', 'Product ID', 'Product Name', 'Brand', 'Category', 'Price',\n",
       "       'Rating', 'Color', 'Size'],\n",
       "      dtype='object')"
      ]
     },
     "execution_count": 298,
     "metadata": {},
     "output_type": "execute_result"
    }
   ],
   "source": [
    "df.columns"
   ]
  },
  {
   "cell_type": "code",
   "execution_count": 299,
   "metadata": {},
   "outputs": [
    {
     "data": {
      "text/plain": [
       "<bound method DataFrame.select_dtypes of      User ID  Product ID Product Name   Brand         Category  Price  \\\n",
       "0         19           1        Dress  Adidas    Men's Fashion     40   \n",
       "1         97           2        Shoes     H&M  Women's Fashion     82   \n",
       "2         25           3        Dress  Adidas  Women's Fashion     44   \n",
       "3         57           4        Shoes    Zara    Men's Fashion     23   \n",
       "4         79           5      T-shirt  Adidas    Men's Fashion     79   \n",
       "..       ...         ...          ...     ...              ...    ...   \n",
       "357       66         358        Shoes  Adidas    Men's Fashion     55   \n",
       "358       55         359        Dress    Nike    Kids' Fashion     68   \n",
       "359       42         360      Sweater     H&M  Women's Fashion     24   \n",
       "360       78         361      Sweater     H&M    Kids' Fashion     62   \n",
       "361       22         362        Jeans  Adidas    Men's Fashion     15   \n",
       "\n",
       "       Rating   Color Size  \n",
       "0    1.043159   Black   XL  \n",
       "1    4.026416   Black    L  \n",
       "2    3.337938  Yellow   XL  \n",
       "3    1.049523   White    S  \n",
       "4    4.302773   Black    M  \n",
       "..        ...     ...  ...  \n",
       "357  1.174953    Blue   XL  \n",
       "358  4.449500     Red    L  \n",
       "359  2.257292   Black   XL  \n",
       "360  1.760451    Blue   XL  \n",
       "361  1.281293     Red    S  \n",
       "\n",
       "[362 rows x 9 columns]>"
      ]
     },
     "execution_count": 299,
     "metadata": {},
     "output_type": "execute_result"
    }
   ],
   "source": [
    "df.select_dtypes"
   ]
  },
  {
   "cell_type": "markdown",
   "metadata": {},
   "source": [
    "***Data Cleaning***"
   ]
  },
  {
   "cell_type": "code",
   "execution_count": 303,
   "metadata": {},
   "outputs": [
    {
     "data": {
      "text/html": [
       "<div>\n",
       "<style scoped>\n",
       "    .dataframe tbody tr th:only-of-type {\n",
       "        vertical-align: middle;\n",
       "    }\n",
       "\n",
       "    .dataframe tbody tr th {\n",
       "        vertical-align: top;\n",
       "    }\n",
       "\n",
       "    .dataframe thead th {\n",
       "        text-align: right;\n",
       "    }\n",
       "</style>\n",
       "<table border=\"1\" class=\"dataframe\">\n",
       "  <thead>\n",
       "    <tr style=\"text-align: right;\">\n",
       "      <th></th>\n",
       "      <th>User ID</th>\n",
       "      <th>Product ID</th>\n",
       "      <th>Product Name</th>\n",
       "      <th>Brand</th>\n",
       "      <th>Category</th>\n",
       "      <th>Price</th>\n",
       "      <th>Rating</th>\n",
       "      <th>Color</th>\n",
       "      <th>Size</th>\n",
       "    </tr>\n",
       "  </thead>\n",
       "  <tbody>\n",
       "    <tr>\n",
       "      <th>0</th>\n",
       "      <td>19</td>\n",
       "      <td>1</td>\n",
       "      <td>Dress</td>\n",
       "      <td>Adidas</td>\n",
       "      <td>Men's Fashion</td>\n",
       "      <td>40</td>\n",
       "      <td>1.043159</td>\n",
       "      <td>Black</td>\n",
       "      <td>XL</td>\n",
       "    </tr>\n",
       "    <tr>\n",
       "      <th>1</th>\n",
       "      <td>97</td>\n",
       "      <td>2</td>\n",
       "      <td>Shoes</td>\n",
       "      <td>H&amp;M</td>\n",
       "      <td>Women's Fashion</td>\n",
       "      <td>82</td>\n",
       "      <td>4.026416</td>\n",
       "      <td>Black</td>\n",
       "      <td>L</td>\n",
       "    </tr>\n",
       "    <tr>\n",
       "      <th>2</th>\n",
       "      <td>25</td>\n",
       "      <td>3</td>\n",
       "      <td>Dress</td>\n",
       "      <td>Adidas</td>\n",
       "      <td>Women's Fashion</td>\n",
       "      <td>44</td>\n",
       "      <td>3.337938</td>\n",
       "      <td>Yellow</td>\n",
       "      <td>XL</td>\n",
       "    </tr>\n",
       "    <tr>\n",
       "      <th>3</th>\n",
       "      <td>57</td>\n",
       "      <td>4</td>\n",
       "      <td>Shoes</td>\n",
       "      <td>Zara</td>\n",
       "      <td>Men's Fashion</td>\n",
       "      <td>23</td>\n",
       "      <td>1.049523</td>\n",
       "      <td>White</td>\n",
       "      <td>S</td>\n",
       "    </tr>\n",
       "    <tr>\n",
       "      <th>4</th>\n",
       "      <td>79</td>\n",
       "      <td>5</td>\n",
       "      <td>T-shirt</td>\n",
       "      <td>Adidas</td>\n",
       "      <td>Men's Fashion</td>\n",
       "      <td>79</td>\n",
       "      <td>4.302773</td>\n",
       "      <td>Black</td>\n",
       "      <td>M</td>\n",
       "    </tr>\n",
       "    <tr>\n",
       "      <th>...</th>\n",
       "      <td>...</td>\n",
       "      <td>...</td>\n",
       "      <td>...</td>\n",
       "      <td>...</td>\n",
       "      <td>...</td>\n",
       "      <td>...</td>\n",
       "      <td>...</td>\n",
       "      <td>...</td>\n",
       "      <td>...</td>\n",
       "    </tr>\n",
       "    <tr>\n",
       "      <th>357</th>\n",
       "      <td>66</td>\n",
       "      <td>358</td>\n",
       "      <td>Shoes</td>\n",
       "      <td>Adidas</td>\n",
       "      <td>Men's Fashion</td>\n",
       "      <td>55</td>\n",
       "      <td>1.174953</td>\n",
       "      <td>Blue</td>\n",
       "      <td>XL</td>\n",
       "    </tr>\n",
       "    <tr>\n",
       "      <th>358</th>\n",
       "      <td>55</td>\n",
       "      <td>359</td>\n",
       "      <td>Dress</td>\n",
       "      <td>Nike</td>\n",
       "      <td>Kids' Fashion</td>\n",
       "      <td>68</td>\n",
       "      <td>4.449500</td>\n",
       "      <td>Red</td>\n",
       "      <td>L</td>\n",
       "    </tr>\n",
       "    <tr>\n",
       "      <th>359</th>\n",
       "      <td>42</td>\n",
       "      <td>360</td>\n",
       "      <td>Sweater</td>\n",
       "      <td>H&amp;M</td>\n",
       "      <td>Women's Fashion</td>\n",
       "      <td>24</td>\n",
       "      <td>2.257292</td>\n",
       "      <td>Black</td>\n",
       "      <td>XL</td>\n",
       "    </tr>\n",
       "    <tr>\n",
       "      <th>360</th>\n",
       "      <td>78</td>\n",
       "      <td>361</td>\n",
       "      <td>Sweater</td>\n",
       "      <td>H&amp;M</td>\n",
       "      <td>Kids' Fashion</td>\n",
       "      <td>62</td>\n",
       "      <td>1.760451</td>\n",
       "      <td>Blue</td>\n",
       "      <td>XL</td>\n",
       "    </tr>\n",
       "    <tr>\n",
       "      <th>361</th>\n",
       "      <td>22</td>\n",
       "      <td>362</td>\n",
       "      <td>Jeans</td>\n",
       "      <td>Adidas</td>\n",
       "      <td>Men's Fashion</td>\n",
       "      <td>15</td>\n",
       "      <td>1.281293</td>\n",
       "      <td>Red</td>\n",
       "      <td>S</td>\n",
       "    </tr>\n",
       "  </tbody>\n",
       "</table>\n",
       "<p>362 rows × 9 columns</p>\n",
       "</div>"
      ],
      "text/plain": [
       "     User ID  Product ID Product Name   Brand         Category  Price  \\\n",
       "0         19           1        Dress  Adidas    Men's Fashion     40   \n",
       "1         97           2        Shoes     H&M  Women's Fashion     82   \n",
       "2         25           3        Dress  Adidas  Women's Fashion     44   \n",
       "3         57           4        Shoes    Zara    Men's Fashion     23   \n",
       "4         79           5      T-shirt  Adidas    Men's Fashion     79   \n",
       "..       ...         ...          ...     ...              ...    ...   \n",
       "357       66         358        Shoes  Adidas    Men's Fashion     55   \n",
       "358       55         359        Dress    Nike    Kids' Fashion     68   \n",
       "359       42         360      Sweater     H&M  Women's Fashion     24   \n",
       "360       78         361      Sweater     H&M    Kids' Fashion     62   \n",
       "361       22         362        Jeans  Adidas    Men's Fashion     15   \n",
       "\n",
       "       Rating   Color Size  \n",
       "0    1.043159   Black   XL  \n",
       "1    4.026416   Black    L  \n",
       "2    3.337938  Yellow   XL  \n",
       "3    1.049523   White    S  \n",
       "4    4.302773   Black    M  \n",
       "..        ...     ...  ...  \n",
       "357  1.174953    Blue   XL  \n",
       "358  4.449500     Red    L  \n",
       "359  2.257292   Black   XL  \n",
       "360  1.760451    Blue   XL  \n",
       "361  1.281293     Red    S  \n",
       "\n",
       "[362 rows x 9 columns]"
      ]
     },
     "execution_count": 303,
     "metadata": {},
     "output_type": "execute_result"
    }
   ],
   "source": [
    "df.dropna()"
   ]
  },
  {
   "cell_type": "code",
   "execution_count": 304,
   "metadata": {},
   "outputs": [],
   "source": [
    "df.dropna(inplace=True)"
   ]
  },
  {
   "cell_type": "code",
   "execution_count": 305,
   "metadata": {},
   "outputs": [],
   "source": [
    "df.fillna(90,inplace=True)"
   ]
  },
  {
   "cell_type": "code",
   "execution_count": 306,
   "metadata": {},
   "outputs": [
    {
     "data": {
      "text/html": [
       "<div>\n",
       "<style scoped>\n",
       "    .dataframe tbody tr th:only-of-type {\n",
       "        vertical-align: middle;\n",
       "    }\n",
       "\n",
       "    .dataframe tbody tr th {\n",
       "        vertical-align: top;\n",
       "    }\n",
       "\n",
       "    .dataframe thead th {\n",
       "        text-align: right;\n",
       "    }\n",
       "</style>\n",
       "<table border=\"1\" class=\"dataframe\">\n",
       "  <thead>\n",
       "    <tr style=\"text-align: right;\">\n",
       "      <th></th>\n",
       "      <th>User ID</th>\n",
       "      <th>Product ID</th>\n",
       "      <th>Product Name</th>\n",
       "      <th>Brand</th>\n",
       "      <th>Category</th>\n",
       "      <th>Price</th>\n",
       "      <th>Rating</th>\n",
       "      <th>Color</th>\n",
       "      <th>Size</th>\n",
       "    </tr>\n",
       "  </thead>\n",
       "  <tbody>\n",
       "    <tr>\n",
       "      <th>0</th>\n",
       "      <td>False</td>\n",
       "      <td>False</td>\n",
       "      <td>False</td>\n",
       "      <td>False</td>\n",
       "      <td>False</td>\n",
       "      <td>False</td>\n",
       "      <td>False</td>\n",
       "      <td>False</td>\n",
       "      <td>False</td>\n",
       "    </tr>\n",
       "    <tr>\n",
       "      <th>1</th>\n",
       "      <td>False</td>\n",
       "      <td>False</td>\n",
       "      <td>False</td>\n",
       "      <td>False</td>\n",
       "      <td>False</td>\n",
       "      <td>False</td>\n",
       "      <td>False</td>\n",
       "      <td>False</td>\n",
       "      <td>False</td>\n",
       "    </tr>\n",
       "    <tr>\n",
       "      <th>2</th>\n",
       "      <td>False</td>\n",
       "      <td>False</td>\n",
       "      <td>False</td>\n",
       "      <td>False</td>\n",
       "      <td>False</td>\n",
       "      <td>False</td>\n",
       "      <td>False</td>\n",
       "      <td>False</td>\n",
       "      <td>False</td>\n",
       "    </tr>\n",
       "    <tr>\n",
       "      <th>3</th>\n",
       "      <td>False</td>\n",
       "      <td>False</td>\n",
       "      <td>False</td>\n",
       "      <td>False</td>\n",
       "      <td>False</td>\n",
       "      <td>False</td>\n",
       "      <td>False</td>\n",
       "      <td>False</td>\n",
       "      <td>False</td>\n",
       "    </tr>\n",
       "    <tr>\n",
       "      <th>4</th>\n",
       "      <td>False</td>\n",
       "      <td>False</td>\n",
       "      <td>False</td>\n",
       "      <td>False</td>\n",
       "      <td>False</td>\n",
       "      <td>False</td>\n",
       "      <td>False</td>\n",
       "      <td>False</td>\n",
       "      <td>False</td>\n",
       "    </tr>\n",
       "    <tr>\n",
       "      <th>...</th>\n",
       "      <td>...</td>\n",
       "      <td>...</td>\n",
       "      <td>...</td>\n",
       "      <td>...</td>\n",
       "      <td>...</td>\n",
       "      <td>...</td>\n",
       "      <td>...</td>\n",
       "      <td>...</td>\n",
       "      <td>...</td>\n",
       "    </tr>\n",
       "    <tr>\n",
       "      <th>357</th>\n",
       "      <td>False</td>\n",
       "      <td>False</td>\n",
       "      <td>False</td>\n",
       "      <td>False</td>\n",
       "      <td>False</td>\n",
       "      <td>False</td>\n",
       "      <td>False</td>\n",
       "      <td>False</td>\n",
       "      <td>False</td>\n",
       "    </tr>\n",
       "    <tr>\n",
       "      <th>358</th>\n",
       "      <td>False</td>\n",
       "      <td>False</td>\n",
       "      <td>False</td>\n",
       "      <td>False</td>\n",
       "      <td>False</td>\n",
       "      <td>False</td>\n",
       "      <td>False</td>\n",
       "      <td>False</td>\n",
       "      <td>False</td>\n",
       "    </tr>\n",
       "    <tr>\n",
       "      <th>359</th>\n",
       "      <td>False</td>\n",
       "      <td>False</td>\n",
       "      <td>False</td>\n",
       "      <td>False</td>\n",
       "      <td>False</td>\n",
       "      <td>False</td>\n",
       "      <td>False</td>\n",
       "      <td>False</td>\n",
       "      <td>False</td>\n",
       "    </tr>\n",
       "    <tr>\n",
       "      <th>360</th>\n",
       "      <td>False</td>\n",
       "      <td>False</td>\n",
       "      <td>False</td>\n",
       "      <td>False</td>\n",
       "      <td>False</td>\n",
       "      <td>False</td>\n",
       "      <td>False</td>\n",
       "      <td>False</td>\n",
       "      <td>False</td>\n",
       "    </tr>\n",
       "    <tr>\n",
       "      <th>361</th>\n",
       "      <td>False</td>\n",
       "      <td>False</td>\n",
       "      <td>False</td>\n",
       "      <td>False</td>\n",
       "      <td>False</td>\n",
       "      <td>False</td>\n",
       "      <td>False</td>\n",
       "      <td>False</td>\n",
       "      <td>False</td>\n",
       "    </tr>\n",
       "  </tbody>\n",
       "</table>\n",
       "<p>362 rows × 9 columns</p>\n",
       "</div>"
      ],
      "text/plain": [
       "     User ID  Product ID  Product Name  Brand  Category  Price  Rating  Color  \\\n",
       "0      False       False         False  False     False  False   False  False   \n",
       "1      False       False         False  False     False  False   False  False   \n",
       "2      False       False         False  False     False  False   False  False   \n",
       "3      False       False         False  False     False  False   False  False   \n",
       "4      False       False         False  False     False  False   False  False   \n",
       "..       ...         ...           ...    ...       ...    ...     ...    ...   \n",
       "357    False       False         False  False     False  False   False  False   \n",
       "358    False       False         False  False     False  False   False  False   \n",
       "359    False       False         False  False     False  False   False  False   \n",
       "360    False       False         False  False     False  False   False  False   \n",
       "361    False       False         False  False     False  False   False  False   \n",
       "\n",
       "      Size  \n",
       "0    False  \n",
       "1    False  \n",
       "2    False  \n",
       "3    False  \n",
       "4    False  \n",
       "..     ...  \n",
       "357  False  \n",
       "358  False  \n",
       "359  False  \n",
       "360  False  \n",
       "361  False  \n",
       "\n",
       "[362 rows x 9 columns]"
      ]
     },
     "execution_count": 306,
     "metadata": {},
     "output_type": "execute_result"
    }
   ],
   "source": [
    "df.isnull()"
   ]
  },
  {
   "cell_type": "markdown",
   "metadata": {},
   "source": [
    "***Data Processing***"
   ]
  },
  {
   "cell_type": "code",
   "execution_count": 307,
   "metadata": {},
   "outputs": [
    {
     "data": {
      "text/plain": [
       "<bound method DataFrame.info of      User ID  Product ID Product Name   Brand         Category  Price  \\\n",
       "0         19           1        Dress  Adidas    Men's Fashion     40   \n",
       "1         97           2        Shoes     H&M  Women's Fashion     82   \n",
       "2         25           3        Dress  Adidas  Women's Fashion     44   \n",
       "3         57           4        Shoes    Zara    Men's Fashion     23   \n",
       "4         79           5      T-shirt  Adidas    Men's Fashion     79   \n",
       "..       ...         ...          ...     ...              ...    ...   \n",
       "357       66         358        Shoes  Adidas    Men's Fashion     55   \n",
       "358       55         359        Dress    Nike    Kids' Fashion     68   \n",
       "359       42         360      Sweater     H&M  Women's Fashion     24   \n",
       "360       78         361      Sweater     H&M    Kids' Fashion     62   \n",
       "361       22         362        Jeans  Adidas    Men's Fashion     15   \n",
       "\n",
       "       Rating   Color Size  \n",
       "0    1.043159   Black   XL  \n",
       "1    4.026416   Black    L  \n",
       "2    3.337938  Yellow   XL  \n",
       "3    1.049523   White    S  \n",
       "4    4.302773   Black    M  \n",
       "..        ...     ...  ...  \n",
       "357  1.174953    Blue   XL  \n",
       "358  4.449500     Red    L  \n",
       "359  2.257292   Black   XL  \n",
       "360  1.760451    Blue   XL  \n",
       "361  1.281293     Red    S  \n",
       "\n",
       "[362 rows x 9 columns]>"
      ]
     },
     "execution_count": 307,
     "metadata": {},
     "output_type": "execute_result"
    }
   ],
   "source": [
    "df.info"
   ]
  },
  {
   "cell_type": "code",
   "execution_count": 313,
   "metadata": {},
   "outputs": [
    {
     "data": {
      "text/html": [
       "<div>\n",
       "<style scoped>\n",
       "    .dataframe tbody tr th:only-of-type {\n",
       "        vertical-align: middle;\n",
       "    }\n",
       "\n",
       "    .dataframe tbody tr th {\n",
       "        vertical-align: top;\n",
       "    }\n",
       "\n",
       "    .dataframe thead th {\n",
       "        text-align: right;\n",
       "    }\n",
       "</style>\n",
       "<table border=\"1\" class=\"dataframe\">\n",
       "  <thead>\n",
       "    <tr style=\"text-align: right;\">\n",
       "      <th></th>\n",
       "      <th>User ID</th>\n",
       "      <th>Product ID</th>\n",
       "      <th>Product Name</th>\n",
       "      <th>Brand</th>\n",
       "      <th>Category</th>\n",
       "      <th>Price</th>\n",
       "      <th>Rating</th>\n",
       "      <th>Color</th>\n",
       "      <th>Size</th>\n",
       "    </tr>\n",
       "  </thead>\n",
       "  <tbody>\n",
       "    <tr>\n",
       "      <th>min</th>\n",
       "      <td>1.0</td>\n",
       "      <td>1.0</td>\n",
       "      <td>NaN</td>\n",
       "      <td>NaN</td>\n",
       "      <td>NaN</td>\n",
       "      <td>10.0</td>\n",
       "      <td>1.000967</td>\n",
       "      <td>NaN</td>\n",
       "      <td>NaN</td>\n",
       "    </tr>\n",
       "    <tr>\n",
       "      <th>max</th>\n",
       "      <td>100.0</td>\n",
       "      <td>362.0</td>\n",
       "      <td>NaN</td>\n",
       "      <td>NaN</td>\n",
       "      <td>NaN</td>\n",
       "      <td>100.0</td>\n",
       "      <td>4.980656</td>\n",
       "      <td>NaN</td>\n",
       "      <td>NaN</td>\n",
       "    </tr>\n",
       "  </tbody>\n",
       "</table>\n",
       "</div>"
      ],
      "text/plain": [
       "     User ID  Product ID Product Name Brand Category  Price    Rating Color  \\\n",
       "min      1.0         1.0          NaN   NaN      NaN   10.0  1.000967   NaN   \n",
       "max    100.0       362.0          NaN   NaN      NaN  100.0  4.980656   NaN   \n",
       "\n",
       "    Size  \n",
       "min  NaN  \n",
       "max  NaN  "
      ]
     },
     "execution_count": 313,
     "metadata": {},
     "output_type": "execute_result"
    }
   ],
   "source": [
    "df.describe(include=\"all\").loc[[\"min\",\"max\"]]"
   ]
  },
  {
   "cell_type": "code",
   "execution_count": 314,
   "metadata": {},
   "outputs": [
    {
     "data": {
      "text/plain": [
       "Category\n",
       "Kids' Fashion      127\n",
       "Women's Fashion    124\n",
       "Men's Fashion      111\n",
       "Name: count, dtype: int64"
      ]
     },
     "execution_count": 314,
     "metadata": {},
     "output_type": "execute_result"
    }
   ],
   "source": [
    "df[\"Category\"].value_counts()"
   ]
  },
  {
   "cell_type": "code",
   "execution_count": 315,
   "metadata": {},
   "outputs": [
    {
     "data": {
      "text/plain": [
       "0       Black\n",
       "1       Black\n",
       "2      Yellow\n",
       "3       White\n",
       "4       Black\n",
       "        ...  \n",
       "357      Blue\n",
       "358       Red\n",
       "359     Black\n",
       "360      Blue\n",
       "361       Red\n",
       "Name: Color, Length: 362, dtype: object"
      ]
     },
     "execution_count": 315,
     "metadata": {},
     "output_type": "execute_result"
    }
   ],
   "source": [
    "df[\"Color\"]"
   ]
  },
  {
   "cell_type": "code",
   "execution_count": 316,
   "metadata": {},
   "outputs": [
    {
     "name": "stdout",
     "output_type": "stream",
     "text": [
      "0      XL\n",
      "1       L\n",
      "2      XL\n",
      "3       S\n",
      "4       M\n",
      "       ..\n",
      "357    XL\n",
      "358     L\n",
      "359    XL\n",
      "360    XL\n",
      "361     S\n",
      "Name: Size, Length: 362, dtype: object\n"
     ]
    }
   ],
   "source": [
    "a=df[\"Size\"]\n",
    "print(a)"
   ]
  },
  {
   "cell_type": "markdown",
   "metadata": {},
   "source": [
    "***Data Aggregation***"
   ]
  },
  {
   "cell_type": "code",
   "execution_count": 319,
   "metadata": {},
   "outputs": [
    {
     "data": {
      "text/plain": [
       "<Axes: xlabel='Brand'>"
      ]
     },
     "execution_count": 319,
     "metadata": {},
     "output_type": "execute_result"
    },
    {
     "data": {
      "image/png": "[encoded data removed]",
      "text/plain": [
       "<Figure size 640x480 with 1 Axes>"
      ]
     },
     "metadata": {},
     "output_type": "display_data"
    }
   ],
   "source": [
    "df[\"Brand\"].value_counts().plot(kind='bar')"
   ]
  },
  {
   "cell_type": "code",
   "execution_count": 318,
   "metadata": {},
   "outputs": [
    {
     "data": {
      "text/plain": [
       "<Axes: ylabel='Density'>"
      ]
     },
     "execution_count": 318,
     "metadata": {},
     "output_type": "execute_result"
    },
    {
     "data": {
      "image/png": "[encoded data removed]",
      "text/plain": [
       "<Figure size 640x480 with 1 Axes>"
      ]
     },
     "metadata": {},
     "output_type": "display_data"
    }
   ],
   "source": [
    "df[\"Size\"].value_counts().plot(kind=\"kde\")"
   ]
  },
  {
   "cell_type": "code",
   "execution_count": 320,
   "metadata": {},
   "outputs": [
    {
     "data": {
      "text/plain": [
       "'T-shirt'"
      ]
     },
     "execution_count": 320,
     "metadata": {},
     "output_type": "execute_result"
    }
   ],
   "source": [
    "df[\"Product Name\"].max()"
   ]
  },
  {
   "cell_type": "code",
   "execution_count": 321,
   "metadata": {},
   "outputs": [
    {
     "data": {
      "text/plain": [
       "'Dress'"
      ]
     },
     "execution_count": 321,
     "metadata": {},
     "output_type": "execute_result"
    }
   ],
   "source": [
    "df[\"Product Name\"].min()"
   ]
  },
  {
   "cell_type": "code",
   "execution_count": 325,
   "metadata": {},
   "outputs": [
    {
     "data": {
      "text/plain": [
       "0        1\n",
       "1        2\n",
       "2        3\n",
       "3        4\n",
       "4        5\n",
       "      ... \n",
       "357    358\n",
       "358    359\n",
       "359    360\n",
       "360    361\n",
       "361    362\n",
       "Name: Product ID, Length: 362, dtype: int64"
      ]
     },
     "execution_count": 325,
     "metadata": {},
     "output_type": "execute_result"
    }
   ],
   "source": [
    "df[\"Product ID\"].mode()"
   ]
  },
  {
   "cell_type": "code",
   "execution_count": 338,
   "metadata": {},
   "outputs": [
    {
     "data": {
      "text/plain": [
       "<Axes: ylabel='count'>"
      ]
     },
     "execution_count": 338,
     "metadata": {},
     "output_type": "execute_result"
    },
    {
     "data": {
      "image/png": "[encoded data removed]",
      "text/plain": [
       "<Figure size 640x480 with 1 Axes>"
      ]
     },
     "metadata": {},
     "output_type": "display_data"
    }
   ],
   "source": [
    "df[\"Color\"].value_counts().plot(kind=\"pie\")"
   ]
  },
  {
   "cell_type": "code",
   "execution_count": 326,
   "metadata": {},
   "outputs": [
    {
     "data": {
      "text/plain": [
       "65703"
      ]
     },
     "execution_count": 326,
     "metadata": {},
     "output_type": "execute_result"
    }
   ],
   "source": [
    "df[\"Product ID\"].sum()"
   ]
  },
  {
   "cell_type": "code",
   "execution_count": 327,
   "metadata": {},
   "outputs": [
    {
     "data": {
      "text/plain": [
       "0    Kids' Fashion\n",
       "Name: Category, dtype: object"
      ]
     },
     "execution_count": 327,
     "metadata": {},
     "output_type": "execute_result"
    }
   ],
   "source": [
    "df[\"Category\"].mode()"
   ]
  },
  {
   "cell_type": "code",
   "execution_count": 328,
   "metadata": {},
   "outputs": [
    {
     "data": {
      "text/plain": [
       "65703"
      ]
     },
     "execution_count": 328,
     "metadata": {},
     "output_type": "execute_result"
    }
   ],
   "source": [
    "df[\"Product ID\"].sum()"
   ]
  },
  {
   "cell_type": "code",
   "execution_count": 329,
   "metadata": {},
   "outputs": [
    {
     "data": {
      "text/plain": [
       "0    34\n",
       "Name: User ID, dtype: int64"
      ]
     },
     "execution_count": 329,
     "metadata": {},
     "output_type": "execute_result"
    }
   ],
   "source": [
    "df[\"User ID\"].mode()"
   ]
  },
  {
   "cell_type": "code",
   "execution_count": 330,
   "metadata": {},
   "outputs": [
    {
     "data": {
      "text/plain": [
       "65703"
      ]
     },
     "execution_count": 330,
     "metadata": {},
     "output_type": "execute_result"
    }
   ],
   "source": [
    "df[\"Product ID\"].sum()"
   ]
  },
  {
   "cell_type": "code",
   "execution_count": 331,
   "metadata": {},
   "outputs": [
    {
     "data": {
      "text/html": [
       "<div>\n",
       "<style scoped>\n",
       "    .dataframe tbody tr th:only-of-type {\n",
       "        vertical-align: middle;\n",
       "    }\n",
       "\n",
       "    .dataframe tbody tr th {\n",
       "        vertical-align: top;\n",
       "    }\n",
       "\n",
       "    .dataframe thead th {\n",
       "        text-align: right;\n",
       "    }\n",
       "</style>\n",
       "<table border=\"1\" class=\"dataframe\">\n",
       "  <thead>\n",
       "    <tr style=\"text-align: right;\">\n",
       "      <th></th>\n",
       "      <th>User ID</th>\n",
       "      <th>Product ID</th>\n",
       "      <th>Product Name</th>\n",
       "      <th>Brand</th>\n",
       "      <th>Category</th>\n",
       "      <th>Price</th>\n",
       "      <th>Rating</th>\n",
       "      <th>Color</th>\n",
       "      <th>Size</th>\n",
       "    </tr>\n",
       "  </thead>\n",
       "  <tbody>\n",
       "    <tr>\n",
       "      <th>count</th>\n",
       "      <td>362.0</td>\n",
       "      <td>362.0</td>\n",
       "      <td>362</td>\n",
       "      <td>362</td>\n",
       "      <td>362</td>\n",
       "      <td>362.0</td>\n",
       "      <td>362.000000</td>\n",
       "      <td>362</td>\n",
       "      <td>362</td>\n",
       "    </tr>\n",
       "    <tr>\n",
       "      <th>max</th>\n",
       "      <td>100.0</td>\n",
       "      <td>362.0</td>\n",
       "      <td>NaN</td>\n",
       "      <td>NaN</td>\n",
       "      <td>NaN</td>\n",
       "      <td>100.0</td>\n",
       "      <td>4.980656</td>\n",
       "      <td>NaN</td>\n",
       "      <td>NaN</td>\n",
       "    </tr>\n",
       "  </tbody>\n",
       "</table>\n",
       "</div>"
      ],
      "text/plain": [
       "       User ID  Product ID Product Name Brand Category  Price      Rating  \\\n",
       "count    362.0       362.0          362   362      362  362.0  362.000000   \n",
       "max      100.0       362.0          NaN   NaN      NaN  100.0    4.980656   \n",
       "\n",
       "      Color Size  \n",
       "count   362  362  \n",
       "max     NaN  NaN  "
      ]
     },
     "execution_count": 331,
     "metadata": {},
     "output_type": "execute_result"
    }
   ],
   "source": [
    "df.describe(include=\"all\").iloc[[0,10]]"
   ]
  },
  {
   "cell_type": "code",
   "execution_count": 332,
   "metadata": {},
   "outputs": [
    {
     "data": {
      "text/plain": [
       "2.946329472571887"
      ]
     },
     "execution_count": 332,
     "metadata": {},
     "output_type": "execute_result"
    }
   ],
   "source": [
    "df[\"Rating\"].median()"
   ]
  },
  {
   "cell_type": "code",
   "execution_count": 335,
   "metadata": {},
   "outputs": [
    {
     "data": {
      "text/html": [
       "<div>\n",
       "<style scoped>\n",
       "    .dataframe tbody tr th:only-of-type {\n",
       "        vertical-align: middle;\n",
       "    }\n",
       "\n",
       "    .dataframe tbody tr th {\n",
       "        vertical-align: top;\n",
       "    }\n",
       "\n",
       "    .dataframe thead tr th {\n",
       "        text-align: left;\n",
       "    }\n",
       "\n",
       "    .dataframe thead tr:last-of-type th {\n",
       "        text-align: right;\n",
       "    }\n",
       "</style>\n",
       "<table border=\"1\" class=\"dataframe\">\n",
       "  <thead>\n",
       "    <tr>\n",
       "      <th></th>\n",
       "      <th colspan=\"8\" halign=\"left\">User ID</th>\n",
       "      <th colspan=\"2\" halign=\"left\">Product ID</th>\n",
       "      <th>...</th>\n",
       "      <th colspan=\"2\" halign=\"left\">Price</th>\n",
       "      <th colspan=\"8\" halign=\"left\">Rating</th>\n",
       "    </tr>\n",
       "    <tr>\n",
       "      <th></th>\n",
       "      <th>count</th>\n",
       "      <th>mean</th>\n",
       "      <th>std</th>\n",
       "      <th>min</th>\n",
       "      <th>25%</th>\n",
       "      <th>50%</th>\n",
       "      <th>75%</th>\n",
       "      <th>max</th>\n",
       "      <th>count</th>\n",
       "      <th>mean</th>\n",
       "      <th>...</th>\n",
       "      <th>75%</th>\n",
       "      <th>max</th>\n",
       "      <th>count</th>\n",
       "      <th>mean</th>\n",
       "      <th>std</th>\n",
       "      <th>min</th>\n",
       "      <th>25%</th>\n",
       "      <th>50%</th>\n",
       "      <th>75%</th>\n",
       "      <th>max</th>\n",
       "    </tr>\n",
       "    <tr>\n",
       "      <th>Color</th>\n",
       "      <th></th>\n",
       "      <th></th>\n",
       "      <th></th>\n",
       "      <th></th>\n",
       "      <th></th>\n",
       "      <th></th>\n",
       "      <th></th>\n",
       "      <th></th>\n",
       "      <th></th>\n",
       "      <th></th>\n",
       "      <th></th>\n",
       "      <th></th>\n",
       "      <th></th>\n",
       "      <th></th>\n",
       "      <th></th>\n",
       "      <th></th>\n",
       "      <th></th>\n",
       "      <th></th>\n",
       "      <th></th>\n",
       "      <th></th>\n",
       "      <th></th>\n",
       "    </tr>\n",
       "  </thead>\n",
       "  <tbody>\n",
       "    <tr>\n",
       "      <th>Black</th>\n",
       "      <td>44.0</td>\n",
       "      <td>47.977273</td>\n",
       "      <td>27.797849</td>\n",
       "      <td>2.0</td>\n",
       "      <td>27.00</td>\n",
       "      <td>45.0</td>\n",
       "      <td>73.25</td>\n",
       "      <td>97.0</td>\n",
       "      <td>44.0</td>\n",
       "      <td>210.909091</td>\n",
       "      <td>...</td>\n",
       "      <td>80.00</td>\n",
       "      <td>100.0</td>\n",
       "      <td>44.0</td>\n",
       "      <td>3.046837</td>\n",
       "      <td>1.134782</td>\n",
       "      <td>1.028670</td>\n",
       "      <td>2.314575</td>\n",
       "      <td>2.829929</td>\n",
       "      <td>4.050919</td>\n",
       "      <td>4.980656</td>\n",
       "    </tr>\n",
       "    <tr>\n",
       "      <th>Blue</th>\n",
       "      <td>59.0</td>\n",
       "      <td>51.000000</td>\n",
       "      <td>26.144163</td>\n",
       "      <td>3.0</td>\n",
       "      <td>33.50</td>\n",
       "      <td>48.0</td>\n",
       "      <td>72.00</td>\n",
       "      <td>100.0</td>\n",
       "      <td>59.0</td>\n",
       "      <td>184.694915</td>\n",
       "      <td>...</td>\n",
       "      <td>66.50</td>\n",
       "      <td>94.0</td>\n",
       "      <td>59.0</td>\n",
       "      <td>2.806932</td>\n",
       "      <td>1.162545</td>\n",
       "      <td>1.000967</td>\n",
       "      <td>1.822928</td>\n",
       "      <td>2.887807</td>\n",
       "      <td>3.695367</td>\n",
       "      <td>4.947665</td>\n",
       "    </tr>\n",
       "    <tr>\n",
       "      <th>Green</th>\n",
       "      <td>58.0</td>\n",
       "      <td>56.206897</td>\n",
       "      <td>27.643570</td>\n",
       "      <td>6.0</td>\n",
       "      <td>33.25</td>\n",
       "      <td>59.5</td>\n",
       "      <td>77.00</td>\n",
       "      <td>100.0</td>\n",
       "      <td>58.0</td>\n",
       "      <td>160.775862</td>\n",
       "      <td>...</td>\n",
       "      <td>73.25</td>\n",
       "      <td>99.0</td>\n",
       "      <td>58.0</td>\n",
       "      <td>3.043192</td>\n",
       "      <td>1.147757</td>\n",
       "      <td>1.014996</td>\n",
       "      <td>2.270018</td>\n",
       "      <td>3.064030</td>\n",
       "      <td>4.136728</td>\n",
       "      <td>4.851704</td>\n",
       "    </tr>\n",
       "    <tr>\n",
       "      <th>Red</th>\n",
       "      <td>54.0</td>\n",
       "      <td>53.444444</td>\n",
       "      <td>29.087160</td>\n",
       "      <td>2.0</td>\n",
       "      <td>26.25</td>\n",
       "      <td>55.0</td>\n",
       "      <td>79.00</td>\n",
       "      <td>99.0</td>\n",
       "      <td>54.0</td>\n",
       "      <td>172.888889</td>\n",
       "      <td>...</td>\n",
       "      <td>72.75</td>\n",
       "      <td>96.0</td>\n",
       "      <td>54.0</td>\n",
       "      <td>2.927746</td>\n",
       "      <td>1.235981</td>\n",
       "      <td>1.154187</td>\n",
       "      <td>1.692709</td>\n",
       "      <td>2.931019</td>\n",
       "      <td>4.139941</td>\n",
       "      <td>4.886711</td>\n",
       "    </tr>\n",
       "    <tr>\n",
       "      <th>White</th>\n",
       "      <td>73.0</td>\n",
       "      <td>49.027397</td>\n",
       "      <td>30.178162</td>\n",
       "      <td>1.0</td>\n",
       "      <td>31.00</td>\n",
       "      <td>46.0</td>\n",
       "      <td>71.00</td>\n",
       "      <td>100.0</td>\n",
       "      <td>73.0</td>\n",
       "      <td>194.616438</td>\n",
       "      <td>...</td>\n",
       "      <td>79.00</td>\n",
       "      <td>100.0</td>\n",
       "      <td>73.0</td>\n",
       "      <td>3.060497</td>\n",
       "      <td>1.158837</td>\n",
       "      <td>1.049523</td>\n",
       "      <td>2.146849</td>\n",
       "      <td>2.997701</td>\n",
       "      <td>3.992175</td>\n",
       "      <td>4.928128</td>\n",
       "    </tr>\n",
       "    <tr>\n",
       "      <th>Yellow</th>\n",
       "      <td>74.0</td>\n",
       "      <td>50.351351</td>\n",
       "      <td>27.726864</td>\n",
       "      <td>3.0</td>\n",
       "      <td>29.50</td>\n",
       "      <td>50.5</td>\n",
       "      <td>69.75</td>\n",
       "      <td>98.0</td>\n",
       "      <td>74.0</td>\n",
       "      <td>171.054054</td>\n",
       "      <td>...</td>\n",
       "      <td>73.00</td>\n",
       "      <td>98.0</td>\n",
       "      <td>74.0</td>\n",
       "      <td>3.005439</td>\n",
       "      <td>1.130408</td>\n",
       "      <td>1.042409</td>\n",
       "      <td>2.043070</td>\n",
       "      <td>3.013049</td>\n",
       "      <td>3.941302</td>\n",
       "      <td>4.940985</td>\n",
       "    </tr>\n",
       "  </tbody>\n",
       "</table>\n",
       "<p>6 rows × 32 columns</p>\n",
       "</div>"
      ],
      "text/plain": [
       "       User ID                                                        \\\n",
       "         count       mean        std  min    25%   50%    75%    max   \n",
       "Color                                                                  \n",
       "Black     44.0  47.977273  27.797849  2.0  27.00  45.0  73.25   97.0   \n",
       "Blue      59.0  51.000000  26.144163  3.0  33.50  48.0  72.00  100.0   \n",
       "Green     58.0  56.206897  27.643570  6.0  33.25  59.5  77.00  100.0   \n",
       "Red       54.0  53.444444  29.087160  2.0  26.25  55.0  79.00   99.0   \n",
       "White     73.0  49.027397  30.178162  1.0  31.00  46.0  71.00  100.0   \n",
       "Yellow    74.0  50.351351  27.726864  3.0  29.50  50.5  69.75   98.0   \n",
       "\n",
       "       Product ID              ...  Price        Rating                      \\\n",
       "            count        mean  ...    75%    max  count      mean       std   \n",
       "Color                          ...                                            \n",
       "Black        44.0  210.909091  ...  80.00  100.0   44.0  3.046837  1.134782   \n",
       "Blue         59.0  184.694915  ...  66.50   94.0   59.0  2.806932  1.162545   \n",
       "Green        58.0  160.775862  ...  73.25   99.0   58.0  3.043192  1.147757   \n",
       "Red          54.0  172.888889  ...  72.75   96.0   54.0  2.927746  1.235981   \n",
       "White        73.0  194.616438  ...  79.00  100.0   73.0  3.060497  1.158837   \n",
       "Yellow       74.0  171.054054  ...  73.00   98.0   74.0  3.005439  1.130408   \n",
       "\n",
       "                                                          \n",
       "             min       25%       50%       75%       max  \n",
       "Color                                                     \n",
       "Black   1.028670  2.314575  2.829929  4.050919  4.980656  \n",
       "Blue    1.000967  1.822928  2.887807  3.695367  4.947665  \n",
       "Green   1.014996  2.270018  3.064030  4.136728  4.851704  \n",
       "Red     1.154187  1.692709  2.931019  4.139941  4.886711  \n",
       "White   1.049523  2.146849  2.997701  3.992175  4.928128  \n",
       "Yellow  1.042409  2.043070  3.013049  3.941302  4.940985  \n",
       "\n",
       "[6 rows x 32 columns]"
      ]
     },
     "execution_count": 335,
     "metadata": {},
     "output_type": "execute_result"
    }
   ],
   "source": [
    "df.groupby(\"Color\").describe()"
   ]
  },
  {
   "cell_type": "code",
   "execution_count": 337,
   "metadata": {},
   "outputs": [
    {
     "name": "stderr",
     "output_type": "stream",
     "text": [
      "C:\\Users\\AHT\\AppData\\Local\\Temp\\ipykernel_14240\\3896554658.py:1: FutureWarning: DataFrame.fillna with 'method' is deprecated and will raise in a future version. Use obj.ffill() or obj.bfill() instead.\n",
      "  df.fillna(method=\"bfill\")\n"
     ]
    },
    {
     "data": {
      "text/html": [
       "<div>\n",
       "<style scoped>\n",
       "    .dataframe tbody tr th:only-of-type {\n",
       "        vertical-align: middle;\n",
       "    }\n",
       "\n",
       "    .dataframe tbody tr th {\n",
       "        vertical-align: top;\n",
       "    }\n",
       "\n",
       "    .dataframe thead th {\n",
       "        text-align: right;\n",
       "    }\n",
       "</style>\n",
       "<table border=\"1\" class=\"dataframe\">\n",
       "  <thead>\n",
       "    <tr style=\"text-align: right;\">\n",
       "      <th></th>\n",
       "      <th>User ID</th>\n",
       "      <th>Product ID</th>\n",
       "      <th>Product Name</th>\n",
       "      <th>Brand</th>\n",
       "      <th>Category</th>\n",
       "      <th>Price</th>\n",
       "      <th>Rating</th>\n",
       "      <th>Color</th>\n",
       "      <th>Size</th>\n",
       "    </tr>\n",
       "  </thead>\n",
       "  <tbody>\n",
       "    <tr>\n",
       "      <th>0</th>\n",
       "      <td>19</td>\n",
       "      <td>1</td>\n",
       "      <td>Dress</td>\n",
       "      <td>Adidas</td>\n",
       "      <td>Men's Fashion</td>\n",
       "      <td>40</td>\n",
       "      <td>1.043159</td>\n",
       "      <td>Black</td>\n",
       "      <td>XL</td>\n",
       "    </tr>\n",
       "    <tr>\n",
       "      <th>1</th>\n",
       "      <td>97</td>\n",
       "      <td>2</td>\n",
       "      <td>Shoes</td>\n",
       "      <td>H&amp;M</td>\n",
       "      <td>Women's Fashion</td>\n",
       "      <td>82</td>\n",
       "      <td>4.026416</td>\n",
       "      <td>Black</td>\n",
       "      <td>L</td>\n",
       "    </tr>\n",
       "    <tr>\n",
       "      <th>2</th>\n",
       "      <td>25</td>\n",
       "      <td>3</td>\n",
       "      <td>Dress</td>\n",
       "      <td>Adidas</td>\n",
       "      <td>Women's Fashion</td>\n",
       "      <td>44</td>\n",
       "      <td>3.337938</td>\n",
       "      <td>Yellow</td>\n",
       "      <td>XL</td>\n",
       "    </tr>\n",
       "    <tr>\n",
       "      <th>3</th>\n",
       "      <td>57</td>\n",
       "      <td>4</td>\n",
       "      <td>Shoes</td>\n",
       "      <td>Zara</td>\n",
       "      <td>Men's Fashion</td>\n",
       "      <td>23</td>\n",
       "      <td>1.049523</td>\n",
       "      <td>White</td>\n",
       "      <td>S</td>\n",
       "    </tr>\n",
       "    <tr>\n",
       "      <th>4</th>\n",
       "      <td>79</td>\n",
       "      <td>5</td>\n",
       "      <td>T-shirt</td>\n",
       "      <td>Adidas</td>\n",
       "      <td>Men's Fashion</td>\n",
       "      <td>79</td>\n",
       "      <td>4.302773</td>\n",
       "      <td>Black</td>\n",
       "      <td>M</td>\n",
       "    </tr>\n",
       "    <tr>\n",
       "      <th>...</th>\n",
       "      <td>...</td>\n",
       "      <td>...</td>\n",
       "      <td>...</td>\n",
       "      <td>...</td>\n",
       "      <td>...</td>\n",
       "      <td>...</td>\n",
       "      <td>...</td>\n",
       "      <td>...</td>\n",
       "      <td>...</td>\n",
       "    </tr>\n",
       "    <tr>\n",
       "      <th>357</th>\n",
       "      <td>66</td>\n",
       "      <td>358</td>\n",
       "      <td>Shoes</td>\n",
       "      <td>Adidas</td>\n",
       "      <td>Men's Fashion</td>\n",
       "      <td>55</td>\n",
       "      <td>1.174953</td>\n",
       "      <td>Blue</td>\n",
       "      <td>XL</td>\n",
       "    </tr>\n",
       "    <tr>\n",
       "      <th>358</th>\n",
       "      <td>55</td>\n",
       "      <td>359</td>\n",
       "      <td>Dress</td>\n",
       "      <td>Nike</td>\n",
       "      <td>Kids' Fashion</td>\n",
       "      <td>68</td>\n",
       "      <td>4.449500</td>\n",
       "      <td>Red</td>\n",
       "      <td>L</td>\n",
       "    </tr>\n",
       "    <tr>\n",
       "      <th>359</th>\n",
       "      <td>42</td>\n",
       "      <td>360</td>\n",
       "      <td>Sweater</td>\n",
       "      <td>H&amp;M</td>\n",
       "      <td>Women's Fashion</td>\n",
       "      <td>24</td>\n",
       "      <td>2.257292</td>\n",
       "      <td>Black</td>\n",
       "      <td>XL</td>\n",
       "    </tr>\n",
       "    <tr>\n",
       "      <th>360</th>\n",
       "      <td>78</td>\n",
       "      <td>361</td>\n",
       "      <td>Sweater</td>\n",
       "      <td>H&amp;M</td>\n",
       "      <td>Kids' Fashion</td>\n",
       "      <td>62</td>\n",
       "      <td>1.760451</td>\n",
       "      <td>Blue</td>\n",
       "      <td>XL</td>\n",
       "    </tr>\n",
       "    <tr>\n",
       "      <th>361</th>\n",
       "      <td>22</td>\n",
       "      <td>362</td>\n",
       "      <td>Jeans</td>\n",
       "      <td>Adidas</td>\n",
       "      <td>Men's Fashion</td>\n",
       "      <td>15</td>\n",
       "      <td>1.281293</td>\n",
       "      <td>Red</td>\n",
       "      <td>S</td>\n",
       "    </tr>\n",
       "  </tbody>\n",
       "</table>\n",
       "<p>362 rows × 9 columns</p>\n",
       "</div>"
      ],
      "text/plain": [
       "     User ID  Product ID Product Name   Brand         Category  Price  \\\n",
       "0         19           1        Dress  Adidas    Men's Fashion     40   \n",
       "1         97           2        Shoes     H&M  Women's Fashion     82   \n",
       "2         25           3        Dress  Adidas  Women's Fashion     44   \n",
       "3         57           4        Shoes    Zara    Men's Fashion     23   \n",
       "4         79           5      T-shirt  Adidas    Men's Fashion     79   \n",
       "..       ...         ...          ...     ...              ...    ...   \n",
       "357       66         358        Shoes  Adidas    Men's Fashion     55   \n",
       "358       55         359        Dress    Nike    Kids' Fashion     68   \n",
       "359       42         360      Sweater     H&M  Women's Fashion     24   \n",
       "360       78         361      Sweater     H&M    Kids' Fashion     62   \n",
       "361       22         362        Jeans  Adidas    Men's Fashion     15   \n",
       "\n",
       "       Rating   Color Size  \n",
       "0    1.043159   Black   XL  \n",
       "1    4.026416   Black    L  \n",
       "2    3.337938  Yellow   XL  \n",
       "3    1.049523   White    S  \n",
       "4    4.302773   Black    M  \n",
       "..        ...     ...  ...  \n",
       "357  1.174953    Blue   XL  \n",
       "358  4.449500     Red    L  \n",
       "359  2.257292   Black   XL  \n",
       "360  1.760451    Blue   XL  \n",
       "361  1.281293     Red    S  \n",
       "\n",
       "[362 rows x 9 columns]"
      ]
     },
     "execution_count": 337,
     "metadata": {},
     "output_type": "execute_result"
    }
   ],
   "source": [
    "df.fillna(method=\"bfill\")"
   ]
  }
 ],
 "metadata": {
  "kernelspec": {
   "display_name": "base",
   "language": "python",
   "name": "python3"
  },
  "language_info": {
   "codemirror_mode": {
    "name": "ipython",
    "version": 3
   },
   "file_extension": ".py",
   "mimetype": "text/x-python",
   "name": "python",
   "nbconvert_exporter": "python",
   "pygments_lexer": "ipython3",
   "version": "3.12.7"
  }
 },
 "nbformat": 4,
 "nbformat_minor": 2
}
